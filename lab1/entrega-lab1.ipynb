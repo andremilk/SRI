{
 "cells": [
  {
   "cell_type": "markdown",
   "metadata": {},
   "source": []
  },
  {
   "cell_type": "code",
   "execution_count": 39,
   "metadata": {},
   "outputs": [],
   "source": []
  },
  {
   "cell_type": "code",
   "execution_count": 29,
   "metadata": {},
   "outputs": [],
   "source": [
    "import pandas as pd\n",
    "import nltk\n",
    "\n",
    "import sys  \n",
    "\n",
    "reload(sys)  \n",
    "sys.setdefaultencoding('utf8')\n",
    "dados = pd.read_csv(\"noticias_estadao.csv\")\n",
    "dados['noticia'] = dados['titulo'] + \" \" + dados['conteudo']\n",
    "mapa_tokens = {}\n",
    "indice_invertido = {}\n",
    "\n",
    "for i in range(dados.noticia.count()):\n",
    "    tokens = set(nltk.word_tokenize(unicode(dados.noticia[i])))\n",
    "    mapa_tokens[i] = tokens\n",
    "    \n",
    "for i in range(dados.noticia.count()):\n",
    "    for token in mapa_tokens[i]:\n",
    "        token = token.lower()\n",
    "        if token in indice_invertido:\n",
    "            indice_invertido[token].append(i)\n",
    "        else:\n",
    "            indice_invertido[token] = [i]\n",
    "            "
   ]
  },
  {
   "cell_type": "code",
   "execution_count": 24,
   "metadata": {},
   "outputs": [],
   "source": [
    "def func_or(a, b):\n",
    "    return set(indice_invertido[a] + indice_invertido[b])\n",
    "\n",
    "def func_and(a, b):\n",
    "    return set(indice_invertido[a] and indice_invertido[b])\n",
    "\n",
    "def and_conjuntivo(lista_palavras):\n",
    "    \n",
    "    ids_por_palavra = [indice_invertido.get(palavra) for palavra in lista_palavras]\n",
    "    \n",
    "    if None in ids_por_palavra:\n",
    "        return []\n",
    "    else:\n",
    "        resultado = set.intersection(*ids_por_palavra)\n",
    "        return list(resultado)\n",
    "\n",
    "def search(expressao):\n",
    "    termos_or = expressao.split(\"OR\")\n",
    "    termos_or = [termo.strip() for termo in termos_or]\n",
    "    \n",
    "    if len(termos_or) > 0:\n",
    "        return func_or(termos_or[0], termos_or[-1])\n",
    "    \n",
    "    termos_and = expressao.split(\"OR\")\n",
    "    termos_and = [termo.strip() for termo in termos_and]\n",
    "    \n",
    "    if len(termos_and) > 0:\n",
    "        return func_and(termos_and[0], termos_and[-1])\n",
    "    "
   ]
  },
  {
   "cell_type": "markdown",
   "metadata": {},
   "source": [
    "Testes\n",
    "\n",
    "1. debate, presidenciável (AND e OR)\n",
    "2. presidenciáveis, corruptos (AND e OR)\n",
    "3. Belo, Horizonte (AND e OR)\n"
   ]
  },
  {
   "cell_type": "code",
   "execution_count": null,
   "metadata": {},
   "outputs": [],
   "source": [
    "assert len(search(\"debate OR presidencial\")) == 1770\n",
    "assert len(search(\"debate AND presidencial\")) == 201\n",
    "\n",
    "assert len(search(\"presidenciáveis OR corruptos\")) == 164\n",
    "assert len(search(\"presidenciáveis AND corruptos\")) == 0\n",
    "assert len(search(\"Belo OR Horizonte\")) == 331\n",
    "assert len(search(\"Belo AND Horizonte\")) == 242"
   ]
  }
 ],
 "metadata": {
  "kernelspec": {
   "display_name": "Python 2",
   "language": "python",
   "name": "python2"
  },
  "language_info": {
   "codemirror_mode": {
    "name": "ipython",
    "version": 2
   },
   "file_extension": ".py",
   "mimetype": "text/x-python",
   "name": "python",
   "nbconvert_exporter": "python",
   "pygments_lexer": "ipython2",
   "version": "2.7.13"
  }
 },
 "nbformat": 4,
 "nbformat_minor": 2
}
